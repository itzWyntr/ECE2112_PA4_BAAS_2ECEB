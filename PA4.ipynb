{
 "cells": [
  {
   "cell_type": "markdown",
   "id": "b325ffcb",
   "metadata": {},
   "source": [
    "# PA4 "
   ]
  },
  {
   "cell_type": "markdown",
   "id": "99dd7a7f",
   "metadata": {},
   "source": [
    "## 1. Data Frame Creation"
   ]
  },
  {
   "cell_type": "code",
   "execution_count": 2,
   "id": "463492b3",
   "metadata": {},
   "outputs": [],
   "source": [
    "import pandas as pd\n",
    "\n",
    "df = pd.read_excel('board2.xlsx')"
   ]
  },
  {
   "cell_type": "markdown",
   "id": "e5b0c789",
   "metadata": {},
   "source": [
    "a. Track is constant as Instrumentation, hometown Luzon, grade greater than 70 in Electronics"
   ]
  },
  {
   "cell_type": "code",
   "execution_count": 3,
   "id": "341d8bba",
   "metadata": {},
   "outputs": [
    {
     "data": {
      "text/html": [
       "<div>\n",
       "<style scoped>\n",
       "    .dataframe tbody tr th:only-of-type {\n",
       "        vertical-align: middle;\n",
       "    }\n",
       "\n",
       "    .dataframe tbody tr th {\n",
       "        vertical-align: top;\n",
       "    }\n",
       "\n",
       "    .dataframe thead th {\n",
       "        text-align: right;\n",
       "    }\n",
       "</style>\n",
       "<table border=\"1\" class=\"dataframe\">\n",
       "  <thead>\n",
       "    <tr style=\"text-align: right;\">\n",
       "      <th></th>\n",
       "      <th>Name</th>\n",
       "      <th>GEAS</th>\n",
       "      <th>Electronics</th>\n",
       "    </tr>\n",
       "  </thead>\n",
       "  <tbody>\n",
       "    <tr>\n",
       "      <th>0</th>\n",
       "      <td>S1</td>\n",
       "      <td>75</td>\n",
       "      <td>89</td>\n",
       "    </tr>\n",
       "    <tr>\n",
       "      <th>7</th>\n",
       "      <td>S8</td>\n",
       "      <td>64</td>\n",
       "      <td>81</td>\n",
       "    </tr>\n",
       "    <tr>\n",
       "      <th>29</th>\n",
       "      <td>S30</td>\n",
       "      <td>57</td>\n",
       "      <td>81</td>\n",
       "    </tr>\n",
       "  </tbody>\n",
       "</table>\n",
       "</div>"
      ],
      "text/plain": [
       "   Name  GEAS  Electronics\n",
       "0    S1    75           89\n",
       "7    S8    64           81\n",
       "29  S30    57           81"
      ]
     },
     "execution_count": 3,
     "metadata": {},
     "output_type": "execute_result"
    }
   ],
   "source": [
    "Instru = df.loc[(df['Track']=='Instrumentation')&(df['Hometown']=='Luzon')&(df['Electronics']>70),['Name', 'GEAS', 'Electronics']]\n",
    "Instru\n"
   ]
  },
  {
   "cell_type": "markdown",
   "id": "0704ca72",
   "metadata": {},
   "source": [
    "b. Hometown is constant as Mindanao, gender Female, and Average greater than or equal to 55"
   ]
  },
  {
   "cell_type": "code",
   "execution_count": 4,
   "id": "183846bd",
   "metadata": {},
   "outputs": [
    {
     "data": {
      "text/html": [
       "<div>\n",
       "<style scoped>\n",
       "    .dataframe tbody tr th:only-of-type {\n",
       "        vertical-align: middle;\n",
       "    }\n",
       "\n",
       "    .dataframe tbody tr th {\n",
       "        vertical-align: top;\n",
       "    }\n",
       "\n",
       "    .dataframe thead th {\n",
       "        text-align: right;\n",
       "    }\n",
       "</style>\n",
       "<table border=\"1\" class=\"dataframe\">\n",
       "  <thead>\n",
       "    <tr style=\"text-align: right;\">\n",
       "      <th></th>\n",
       "      <th>Name</th>\n",
       "      <th>Track</th>\n",
       "      <th>Electronics</th>\n",
       "      <th>Ave</th>\n",
       "    </tr>\n",
       "  </thead>\n",
       "  <tbody>\n",
       "    <tr>\n",
       "      <th>1</th>\n",
       "      <td>S2</td>\n",
       "      <td>Communication</td>\n",
       "      <td>75</td>\n",
       "      <td>67.25</td>\n",
       "    </tr>\n",
       "    <tr>\n",
       "      <th>2</th>\n",
       "      <td>S3</td>\n",
       "      <td>Instrumentation</td>\n",
       "      <td>74</td>\n",
       "      <td>72.75</td>\n",
       "    </tr>\n",
       "    <tr>\n",
       "      <th>14</th>\n",
       "      <td>S15</td>\n",
       "      <td>Microelectronics</td>\n",
       "      <td>41</td>\n",
       "      <td>59.00</td>\n",
       "    </tr>\n",
       "    <tr>\n",
       "      <th>16</th>\n",
       "      <td>S17</td>\n",
       "      <td>Microelectronics</td>\n",
       "      <td>79</td>\n",
       "      <td>70.50</td>\n",
       "    </tr>\n",
       "    <tr>\n",
       "      <th>19</th>\n",
       "      <td>S20</td>\n",
       "      <td>Communication</td>\n",
       "      <td>60</td>\n",
       "      <td>66.50</td>\n",
       "    </tr>\n",
       "  </tbody>\n",
       "</table>\n",
       "</div>"
      ],
      "text/plain": [
       "   Name             Track  Electronics    Ave\n",
       "1    S2     Communication           75  67.25\n",
       "2    S3   Instrumentation           74  72.75\n",
       "14  S15  Microelectronics           41  59.00\n",
       "16  S17  Microelectronics           79  70.50\n",
       "19  S20     Communication           60  66.50"
      ]
     },
     "execution_count": 4,
     "metadata": {},
     "output_type": "execute_result"
    }
   ],
   "source": [
    "df['Ave']=df[['Math','Electronics','GEAS','Communication']].mean(axis=1) #Mean takes average, axis takes the average of the row\n",
    "Mindy = df.loc[(df['Hometown']=='Mindanao')&(df['Gender']=='Female')&(df['Ave']>=55),['Name', 'Track', 'Electronics','Ave']]\n",
    "Mindy"
   ]
  },
  {
   "cell_type": "markdown",
   "id": "d151a134",
   "metadata": {},
   "source": [
    "## 2. Visualization "
   ]
  },
  {
   "cell_type": "markdown",
   "id": "ed63c323",
   "metadata": {},
   "source": [
    "Create Visualization that shows how the different features contributes to average grade."
   ]
  },
  {
   "cell_type": "code",
   "execution_count": 44,
   "id": "9cd674be",
   "metadata": {},
   "outputs": [],
   "source": [
    "import matplotlib.pyplot as plt\n"
   ]
  },
  {
   "cell_type": "markdown",
   "id": "3f7c7dd6",
   "metadata": {},
   "source": [
    "Average by Track"
   ]
  },
  {
   "cell_type": "code",
   "execution_count": null,
   "id": "aa16907a",
   "metadata": {},
   "outputs": [
    {
     "data": {
      "text/plain": [
       "<BarContainer object of 3 artists>"
      ]
     },
     "execution_count": 45,
     "metadata": {},
     "output_type": "execute_result"
    },
    {
     "data": {
      "image/png": "[encoded data removed]",
      "text/plain": [
       "<Figure size 640x480 with 1 Axes>"
      ]
     },
     "metadata": {},
     "output_type": "display_data"
    }
   ],
   "source": [
    "tracks = df['Track'].unique() \n",
    "\n",
    "plt.bar(tracks, [df[df['Track'] == t]['Ave'].mean() for t in tracks]) "
   ]
  },
  {
   "cell_type": "markdown",
   "id": "cc6f1778",
   "metadata": {},
   "source": [
    "Average by Gender"
   ]
  },
  {
   "cell_type": "code",
   "execution_count": 46,
   "id": "ab14741c",
   "metadata": {},
   "outputs": [
    {
     "data": {
      "text/plain": [
       "<BarContainer object of 2 artists>"
      ]
     },
     "execution_count": 46,
     "metadata": {},
     "output_type": "execute_result"
    },
    {
     "data": {
      "image/png": "[encoded data removed]",
      "text/plain": [
       "<Figure size 640x480 with 1 Axes>"
      ]
     },
     "metadata": {},
     "output_type": "display_data"
    }
   ],
   "source": [
    "genders = df[\"Gender\"].unique()\n",
    "plt.bar(genders, [df[df[\"Gender\"] == g][\"Ave\"].mean() for g in genders])"
   ]
  },
  {
   "cell_type": "markdown",
   "id": "09474e89",
   "metadata": {},
   "source": [
    "Average by Hometowns"
   ]
  },
  {
   "cell_type": "code",
   "execution_count": 47,
   "id": "c856ab03",
   "metadata": {},
   "outputs": [
    {
     "data": {
      "text/plain": [
       "<BarContainer object of 3 artists>"
      ]
     },
     "execution_count": 47,
     "metadata": {},
     "output_type": "execute_result"
    },
    {
     "data": {
      "image/png": "[encoded data removed]",
      "text/plain": [
       "<Figure size 640x480 with 1 Axes>"
      ]
     },
     "metadata": {},
     "output_type": "display_data"
    }
   ],
   "source": [
    "hometowns = df[\"Hometown\"].unique()\n",
    "plt.bar(hometowns, [df[df[\"Hometown\"] == h][\"Ave\"].mean() for h in hometowns])"
   ]
  },
  {
   "cell_type": "code",
   "execution_count": null,
   "id": "81070fae",
   "metadata": {},
   "outputs": [],
   "source": []
  }
 ],
 "metadata": {
  "kernelspec": {
   "display_name": "base",
   "language": "python",
   "name": "python3"
  },
  "language_info": {
   "codemirror_mode": {
    "name": "ipython",
    "version": 3
   },
   "file_extension": ".py",
   "mimetype": "text/x-python",
   "name": "python",
   "nbconvert_exporter": "python",
   "pygments_lexer": "ipython3",
   "version": "3.13.5"
  }
 },
 "nbformat": 4,
 "nbformat_minor": 5
}
